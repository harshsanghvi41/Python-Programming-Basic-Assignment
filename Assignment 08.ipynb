{
 "cells": [
  {
   "cell_type": "raw",
   "id": "67fd0f09",
   "metadata": {},
   "source": [
    "1. Write a Python Program to Add Two Matrices?"
   ]
  },
  {
   "cell_type": "code",
   "execution_count": 1,
   "id": "285b1980",
   "metadata": {},
   "outputs": [
    {
     "name": "stdout",
     "output_type": "stream",
     "text": [
      "[ 7  9 11]\n"
     ]
    }
   ],
   "source": [
    "import numpy as np\n",
    "np.random.seed(100)\n",
    "a = np.array([2,3,4])\n",
    "b = np.array([5,6,7])\n",
    "c = a + b\n",
    "print(c)"
   ]
  },
  {
   "cell_type": "raw",
   "id": "ee32e2f2",
   "metadata": {},
   "source": [
    "2. Write a Python Program to Multiply Two Matrices?"
   ]
  },
  {
   "cell_type": "code",
   "execution_count": 2,
   "id": "46d11b69",
   "metadata": {},
   "outputs": [
    {
     "name": "stdout",
     "output_type": "stream",
     "text": [
      "56\n"
     ]
    }
   ],
   "source": [
    "import numpy as np\n",
    "np.random.seed(100)\n",
    "a = np.array([2,3,4])\n",
    "b = np.array([5,6,7])\n",
    "c = a@b\n",
    "print(c)"
   ]
  },
  {
   "cell_type": "raw",
   "id": "40f66b61",
   "metadata": {},
   "source": [
    "3. Write a Python Program to Transpose a Matrix?"
   ]
  },
  {
   "cell_type": "code",
   "execution_count": 3,
   "id": "40c7f95e",
   "metadata": {},
   "outputs": [
    {
     "name": "stdout",
     "output_type": "stream",
     "text": [
      "[[-1.74976547  0.3426804 ]]\n"
     ]
    },
    {
     "data": {
      "text/plain": [
       "array([[-1.74976547],\n",
       "       [ 0.3426804 ]])"
      ]
     },
     "execution_count": 3,
     "metadata": {},
     "output_type": "execute_result"
    }
   ],
   "source": [
    "a = np.random.randn(1,2)\n",
    "print(a)\n",
    "a.transpose()"
   ]
  },
  {
   "cell_type": "raw",
   "id": "7e406d30",
   "metadata": {},
   "source": [
    "4. Write a Python Program to Sort Words in Alphabetic Order?"
   ]
  },
  {
   "cell_type": "code",
   "execution_count": 4,
   "id": "3123fe63",
   "metadata": {},
   "outputs": [
    {
     "name": "stdout",
     "output_type": "stream",
     "text": [
      "full stack data science\n",
      "data full science stack "
     ]
    }
   ],
   "source": [
    "word = input()\n",
    "string = word.split()\n",
    "string.sort()\n",
    "for i in string:\n",
    "    print(i, end=\" \")"
   ]
  },
  {
   "cell_type": "raw",
   "id": "9ee38203",
   "metadata": {},
   "source": [
    "5. Write a Python Program to Remove Punctuation From a String?"
   ]
  },
  {
   "cell_type": "code",
   "execution_count": 5,
   "id": "482ab29d",
   "metadata": {},
   "outputs": [
    {
     "name": "stdout",
     "output_type": "stream",
     "text": [
      "\"Hello!!!, he said ---and went.\"\n",
      "Hello he said and went"
     ]
    }
   ],
   "source": [
    "punctuations = '''!()-[]{};:'\"\\,<>./?@#$%^&*_~'''\n",
    "n = input()\n",
    "for i in n:\n",
    "    j = ''\n",
    "    if i not in punctuations:\n",
    "        j = i + j\n",
    "    print(j, end='')"
   ]
  },
  {
   "cell_type": "code",
   "execution_count": null,
   "id": "ef8916e5",
   "metadata": {},
   "outputs": [],
   "source": []
  }
 ],
 "metadata": {
  "kernelspec": {
   "display_name": "Python 3 (ipykernel)",
   "language": "python",
   "name": "python3"
  },
  "language_info": {
   "codemirror_mode": {
    "name": "ipython",
    "version": 3
   },
   "file_extension": ".py",
   "mimetype": "text/x-python",
   "name": "python",
   "nbconvert_exporter": "python",
   "pygments_lexer": "ipython3",
   "version": "3.8.13"
  }
 },
 "nbformat": 4,
 "nbformat_minor": 5
}
