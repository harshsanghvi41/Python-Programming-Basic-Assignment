{
 "cells": [
  {
   "cell_type": "raw",
   "id": "ea403b75",
   "metadata": {},
   "source": [
    "1. Write a Python Program to Find LCM?"
   ]
  },
  {
   "cell_type": "code",
   "execution_count": 1,
   "id": "f3f77894",
   "metadata": {},
   "outputs": [
    {
     "data": {
      "text/plain": [
       "216"
      ]
     },
     "execution_count": 1,
     "metadata": {},
     "output_type": "execute_result"
    }
   ],
   "source": [
    "def lcm(x,y):\n",
    "    if x > y:\n",
    "        big = x\n",
    "    else:\n",
    "        big = y\n",
    "    while(True):\n",
    "        if ((big % x == 0) and (big % y == 0)):\n",
    "            return big\n",
    "            break\n",
    "        big +=1\n",
    "lcm(54,24)        "
   ]
  },
  {
   "cell_type": "raw",
   "id": "b6e76ee7",
   "metadata": {},
   "source": [
    "2. Write a Python Program to Find HCF?"
   ]
  },
  {
   "cell_type": "code",
   "execution_count": 2,
   "id": "60fb0fb7",
   "metadata": {},
   "outputs": [
    {
     "data": {
      "text/plain": [
       "6"
      ]
     },
     "execution_count": 2,
     "metadata": {},
     "output_type": "execute_result"
    }
   ],
   "source": [
    "def hcf(x,y):\n",
    "    if x > y:\n",
    "        small = y\n",
    "    else:\n",
    "        small = x\n",
    "        \n",
    "    for i in range(1, small + 1):\n",
    "        if ((x % i == 0) and (y % i == 0)):\n",
    "            hcf = i\n",
    "    return hcf\n",
    "                    \n",
    "hcf(54,24)        "
   ]
  },
  {
   "cell_type": "raw",
   "id": "7685e48e",
   "metadata": {},
   "source": [
    "3. Write a Python Program to Convert Decimal to Binary, Octal and Hexadecimal?"
   ]
  },
  {
   "cell_type": "code",
   "execution_count": 3,
   "id": "5f7ad48d",
   "metadata": {},
   "outputs": [
    {
     "name": "stdout",
     "output_type": "stream",
     "text": [
      "250\n",
      "250 in binary is 0b11111010\n",
      "250 in octal is 0o372\n",
      "250 in hexadecimal is 0xfa\n"
     ]
    }
   ],
   "source": [
    "dec = int(input())\n",
    "\n",
    "print(dec,\"in binary is\", bin(dec))\n",
    "print(dec,\"in octal is\", oct(dec))\n",
    "print(dec,\"in hexadecimal is\", hex(dec))"
   ]
  },
  {
   "cell_type": "raw",
   "id": "3034b60f",
   "metadata": {},
   "source": [
    "4. Write a Python Program To Find ASCII value of a character?"
   ]
  },
  {
   "cell_type": "code",
   "execution_count": 4,
   "id": "e8b4c442",
   "metadata": {},
   "outputs": [
    {
     "name": "stdout",
     "output_type": "stream",
     "text": [
      "H\n",
      "The ASCII value of 'H' is 72\n"
     ]
    }
   ],
   "source": [
    "c = input()\n",
    "print(\"The ASCII value of '\" + c + \"' is\", ord(c))"
   ]
  },
  {
   "cell_type": "raw",
   "id": "def304b1",
   "metadata": {},
   "source": [
    "5. Write a Python Program to Make a Simple Calculator with 4 basic mathematical operations?"
   ]
  },
  {
   "cell_type": "code",
   "execution_count": 5,
   "id": "1eb91602",
   "metadata": {},
   "outputs": [
    {
     "name": "stdout",
     "output_type": "stream",
     "text": [
      "40\n",
      "30\n",
      "div\n"
     ]
    },
    {
     "data": {
      "text/plain": [
       "1.33"
      ]
     },
     "execution_count": 5,
     "metadata": {},
     "output_type": "execute_result"
    }
   ],
   "source": [
    "import numpy as np\n",
    "\n",
    "x = float(input())\n",
    "y = float(input())\n",
    "i = input()\n",
    "\n",
    "def cal(x,y): \n",
    "    if i == 'add':\n",
    "        return np.round(x+y, 2)\n",
    "\n",
    "    elif i == 'mul':\n",
    "        return np.round(x*y, 2)\n",
    "\n",
    "    elif i == 'sub':\n",
    "        return np.round(x-y, 2)\n",
    "\n",
    "    else:\n",
    "        return np.round(x/y, 2)\n",
    "    \n",
    "cal(x,y)"
   ]
  }
 ],
 "metadata": {
  "kernelspec": {
   "display_name": "Python 3 (ipykernel)",
   "language": "python",
   "name": "python3"
  },
  "language_info": {
   "codemirror_mode": {
    "name": "ipython",
    "version": 3
   },
   "file_extension": ".py",
   "mimetype": "text/x-python",
   "name": "python",
   "nbconvert_exporter": "python",
   "pygments_lexer": "ipython3",
   "version": "3.8.13"
  }
 },
 "nbformat": 4,
 "nbformat_minor": 5
}
