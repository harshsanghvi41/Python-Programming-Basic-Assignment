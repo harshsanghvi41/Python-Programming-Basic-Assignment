{
 "cells": [
  {
   "cell_type": "markdown",
   "id": "7b823700",
   "metadata": {},
   "source": [
    "1. Write a Python program to find sum of elements in list?\n"
   ]
  },
  {
   "cell_type": "code",
   "execution_count": 1,
   "id": "a7a00b25",
   "metadata": {},
   "outputs": [
    {
     "name": "stdout",
     "output_type": "stream",
     "text": [
      "27\n"
     ]
    }
   ],
   "source": [
    "l = [2,3,4,5,6,7]\n",
    "sum = 0\n",
    "for i in l:\n",
    "    sum = sum + i\n",
    "print(sum)"
   ]
  },
  {
   "cell_type": "markdown",
   "id": "1b2bab8e",
   "metadata": {},
   "source": [
    "2. Write a Python program to Multiply all numbers in the list?\n"
   ]
  },
  {
   "cell_type": "code",
   "execution_count": 2,
   "id": "e5778923",
   "metadata": {},
   "outputs": [
    {
     "name": "stdout",
     "output_type": "stream",
     "text": [
      "5040\n"
     ]
    }
   ],
   "source": [
    "mul = 1\n",
    "for i in l:\n",
    "    mul = mul * i\n",
    "print(mul)"
   ]
  },
  {
   "cell_type": "markdown",
   "id": "59e1f5eb",
   "metadata": {},
   "source": [
    "3. Write a Python program to find smallest number in a list?\n"
   ]
  },
  {
   "cell_type": "code",
   "execution_count": 3,
   "id": "4b9a9a2c",
   "metadata": {},
   "outputs": [
    {
     "name": "stdout",
     "output_type": "stream",
     "text": [
      "2\n"
     ]
    }
   ],
   "source": [
    "print(min(l))"
   ]
  },
  {
   "cell_type": "markdown",
   "id": "3784cd8e",
   "metadata": {},
   "source": [
    "4. Write a Python program to find largest number in a list?\n"
   ]
  },
  {
   "cell_type": "code",
   "execution_count": 4,
   "id": "899973ec",
   "metadata": {},
   "outputs": [
    {
     "name": "stdout",
     "output_type": "stream",
     "text": [
      "7\n"
     ]
    }
   ],
   "source": [
    "print(max(l))"
   ]
  },
  {
   "cell_type": "markdown",
   "id": "a172a2b5",
   "metadata": {},
   "source": [
    "5. Write a Python program to find second largest number in a list?\n"
   ]
  },
  {
   "cell_type": "code",
   "execution_count": 5,
   "id": "c2b926d3",
   "metadata": {},
   "outputs": [
    {
     "name": "stdout",
     "output_type": "stream",
     "text": [
      "6\n"
     ]
    }
   ],
   "source": [
    "l.sort()\n",
    "print(l[-2])"
   ]
  },
  {
   "cell_type": "markdown",
   "id": "a5c27de4",
   "metadata": {},
   "source": [
    "6. Write a Python program to find N largest elements from a list?\n"
   ]
  },
  {
   "cell_type": "code",
   "execution_count": 6,
   "id": "3b6ff019",
   "metadata": {},
   "outputs": [
    {
     "name": "stdout",
     "output_type": "stream",
     "text": [
      "First largest :  7\n",
      "Second largest :  6\n",
      "Third largest :  5\n",
      "Fourth largest :  4\n",
      "Fifth largest :  3\n",
      "Sixth largest :  2\n"
     ]
    }
   ],
   "source": [
    "print(\"First largest : \",l[-1])\n",
    "print(\"Second largest : \",l[-2])\n",
    "print(\"Third largest : \",l[-3])\n",
    "print(\"Fourth largest : \",l[-4])\n",
    "print(\"Fifth largest : \",l[-5])\n",
    "print(\"Sixth largest : \",l[-6])"
   ]
  },
  {
   "cell_type": "markdown",
   "id": "444f1b3f",
   "metadata": {},
   "source": [
    "7. Write a Python program to print even numbers in a list?\n"
   ]
  },
  {
   "cell_type": "code",
   "execution_count": 7,
   "id": "1d12ab0a",
   "metadata": {},
   "outputs": [
    {
     "name": "stdout",
     "output_type": "stream",
     "text": [
      "Even num :  2\n",
      "Even num :  4\n",
      "Even num :  6\n"
     ]
    }
   ],
   "source": [
    "for i in l:\n",
    "    if i%2 == 0:\n",
    "        print('Even num : ',i)"
   ]
  },
  {
   "cell_type": "markdown",
   "id": "6fe78664",
   "metadata": {},
   "source": [
    "8. Write a Python program to print odd numbers in a List?\n"
   ]
  },
  {
   "cell_type": "code",
   "execution_count": 8,
   "id": "7f3e4f7e",
   "metadata": {},
   "outputs": [
    {
     "name": "stdout",
     "output_type": "stream",
     "text": [
      "Odd num :  3\n",
      "Odd num :  5\n",
      "Odd num :  7\n"
     ]
    }
   ],
   "source": [
    "for i in l:\n",
    "    if i%2 != 0:\n",
    "        print('Odd num : ',i)"
   ]
  },
  {
   "cell_type": "markdown",
   "id": "b9c8031c",
   "metadata": {},
   "source": [
    "9. Write a Python program to Remove empty List from List?\n"
   ]
  },
  {
   "cell_type": "code",
   "execution_count": 9,
   "id": "8249b203",
   "metadata": {},
   "outputs": [
    {
     "name": "stdout",
     "output_type": "stream",
     "text": [
      "[2, 3, 4, 4, 5]\n"
     ]
    }
   ],
   "source": [
    "lst = [2,3,4,[],4,5]\n",
    "ls = []\n",
    "for i in lst:\n",
    "    if i != []:\n",
    "        ls.append(i)\n",
    "print(ls)"
   ]
  },
  {
   "cell_type": "markdown",
   "id": "e664483a",
   "metadata": {},
   "source": [
    "10. Write a Python program to Cloning or Copying a list?\n"
   ]
  },
  {
   "cell_type": "code",
   "execution_count": 10,
   "id": "2f163c72",
   "metadata": {},
   "outputs": [
    {
     "name": "stdout",
     "output_type": "stream",
     "text": [
      "3 4 5 6 7\n",
      "[3, 4, 5, 6, 7]\n"
     ]
    }
   ],
   "source": [
    "a = list(map(int,input().split()))\n",
    "b = a.copy()\n",
    "print(b)"
   ]
  },
  {
   "cell_type": "markdown",
   "id": "a0bd63ed",
   "metadata": {},
   "source": [
    "11. Write a Python program to Count occurrences of an element in a list?"
   ]
  },
  {
   "cell_type": "code",
   "execution_count": 11,
   "id": "4374cef4",
   "metadata": {},
   "outputs": [
    {
     "name": "stdout",
     "output_type": "stream",
     "text": [
      "Enter size of list 5\n",
      "Enter element of list 2\n",
      "Enter element of list 3\n",
      "Enter element of list 3\n",
      "Enter element of list 4\n",
      "Enter element of list 5\n",
      "Original list:  [2, 3, 3, 4, 5]\n",
      "Enter element to be checked list: 3\n",
      "3 has occurred 2 times\n"
     ]
    }
   ],
   "source": [
    "li=[]\n",
    "n=int(input(\"Enter size of list \"))\n",
    "for i in range(0,n):\n",
    "    e=int(input(\"Enter element of list \"))\n",
    "    li.append(e)\n",
    "print(\"Original list: \",li)\n",
    "\n",
    "n=int(input(\"Enter element to be checked list: \"))\n",
    "\n",
    "#using count()\n",
    "print(n,\"has occurred\",li.count(n),\"times\")"
   ]
  }
 ],
 "metadata": {
  "kernelspec": {
   "display_name": "Python 3 (ipykernel)",
   "language": "python",
   "name": "python3"
  },
  "language_info": {
   "codemirror_mode": {
    "name": "ipython",
    "version": 3
   },
   "file_extension": ".py",
   "mimetype": "text/x-python",
   "name": "python",
   "nbconvert_exporter": "python",
   "pygments_lexer": "ipython3",
   "version": "3.8.13"
  }
 },
 "nbformat": 4,
 "nbformat_minor": 5
}
