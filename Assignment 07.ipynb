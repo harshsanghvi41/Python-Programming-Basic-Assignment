{
 "cells": [
  {
   "cell_type": "markdown",
   "id": "6415c546",
   "metadata": {},
   "source": [
    "1. Write a Python Program to find sum of array?"
   ]
  },
  {
   "cell_type": "code",
   "execution_count": 1,
   "id": "2c9d9439",
   "metadata": {},
   "outputs": [
    {
     "name": "stdout",
     "output_type": "stream",
     "text": [
      "12 23 34 45 56\n"
     ]
    },
    {
     "data": {
      "text/plain": [
       "170"
      ]
     },
     "execution_count": 1,
     "metadata": {},
     "output_type": "execute_result"
    }
   ],
   "source": [
    "lst = list(map(int, input().split()))\n",
    "def sumlist(lst):\n",
    "    sum = 0\n",
    "    for i in lst:\n",
    "        sum = sum + i\n",
    "    return sum\n",
    "\n",
    "sumlist(lst)"
   ]
  },
  {
   "cell_type": "markdown",
   "id": "762eabbf",
   "metadata": {},
   "source": [
    "2. Write a Python Program to find largest element in an array?"
   ]
  },
  {
   "cell_type": "code",
   "execution_count": 2,
   "id": "119eace2",
   "metadata": {},
   "outputs": [
    {
     "name": "stdout",
     "output_type": "stream",
     "text": [
      "22 33 44 55 66 77\n"
     ]
    },
    {
     "data": {
      "text/plain": [
       "77"
      ]
     },
     "execution_count": 2,
     "metadata": {},
     "output_type": "execute_result"
    }
   ],
   "source": [
    "lst = list(map(int, input().split()))\n",
    "def largest(lst):\n",
    "    for i in lst:\n",
    "        return max(lst)\n",
    "                \n",
    "largest(lst)"
   ]
  },
  {
   "cell_type": "markdown",
   "id": "1c845d61",
   "metadata": {},
   "source": [
    "3. Write a Python Program for array rotation?"
   ]
  },
  {
   "cell_type": "code",
   "execution_count": 3,
   "id": "027a8c4a",
   "metadata": {},
   "outputs": [
    {
     "name": "stdout",
     "output_type": "stream",
     "text": [
      "1 2 3 4 5 6 7\n"
     ]
    },
    {
     "data": {
      "text/plain": [
       "[7, 6, 5, 4, 3, 2, 1]"
      ]
     },
     "execution_count": 3,
     "metadata": {},
     "output_type": "execute_result"
    }
   ],
   "source": [
    "lst = list(map(int, input().split()))\n",
    "def rotation(lst):\n",
    "    lst1 = []\n",
    "    for i in lst:\n",
    "        lst1 = lst[::-1]\n",
    "    return lst1\n",
    "\n",
    "rotation(lst)"
   ]
  },
  {
   "cell_type": "markdown",
   "id": "cf71f536",
   "metadata": {},
   "source": [
    "4. Write a Python Program to Split the array and add the first part to the end?"
   ]
  },
  {
   "cell_type": "code",
   "execution_count": 4,
   "id": "52971690",
   "metadata": {},
   "outputs": [
    {
     "name": "stdout",
     "output_type": "stream",
     "text": [
      "10 20 30 40 50\n"
     ]
    },
    {
     "data": {
      "text/plain": [
       "[30, 40, 50, 10, 20]"
      ]
     },
     "execution_count": 4,
     "metadata": {},
     "output_type": "execute_result"
    }
   ],
   "source": [
    "import math\n",
    "\n",
    "lst = list(map(int, input().split()))\n",
    "\n",
    "def split_array(lst):\n",
    "    list = []\n",
    "    if len(lst) % 2 == 0:\n",
    "        list_len = len(lst)//2\n",
    "        firstpart = lst[:list_len]\n",
    "        secondpart = lst[list_len:]\n",
    "        list.extend(secondpart)\n",
    "        list.extend(firstpart)\n",
    "        return list\n",
    "    \n",
    "    else:\n",
    "        list_len_1 = math.ceil((len(lst)/2)-1)\n",
    "        list_len_2 = math.floor((len(lst)/2))\n",
    "        firstpart = lst[:list_len_1]\n",
    "        secondpart = lst[list_len_2:]\n",
    "        list.extend(secondpart)\n",
    "        list.extend(firstpart)\n",
    "        return list\n",
    "    \n",
    "split_array(lst)"
   ]
  },
  {
   "cell_type": "markdown",
   "id": "f740fe89",
   "metadata": {},
   "source": [
    "5. Write a Python Program to check if given array is Monotonic?"
   ]
  },
  {
   "cell_type": "code",
   "execution_count": 5,
   "id": "e7e716df",
   "metadata": {},
   "outputs": [
    {
     "name": "stdout",
     "output_type": "stream",
     "text": [
      "6 5 4 4\n"
     ]
    },
    {
     "data": {
      "text/plain": [
       "True"
      ]
     },
     "execution_count": 5,
     "metadata": {},
     "output_type": "execute_result"
    }
   ],
   "source": [
    "x = list(map(int, input().split()))\n",
    "\n",
    "def isMonotonic(A):\n",
    "    return (all(A[i] <= A[i + 1] for i in range(len(A) - 1)) or all(A[i] >= A[i + 1] for i in range(len(A) - 1)))\n",
    "\n",
    "isMonotonic(x)"
   ]
  },
  {
   "cell_type": "code",
   "execution_count": null,
   "id": "40f43e96",
   "metadata": {},
   "outputs": [],
   "source": []
  }
 ],
 "metadata": {
  "kernelspec": {
   "display_name": "Python 3 (ipykernel)",
   "language": "python",
   "name": "python3"
  },
  "language_info": {
   "codemirror_mode": {
    "name": "ipython",
    "version": 3
   },
   "file_extension": ".py",
   "mimetype": "text/x-python",
   "name": "python",
   "nbconvert_exporter": "python",
   "pygments_lexer": "ipython3",
   "version": "3.8.13"
  }
 },
 "nbformat": 4,
 "nbformat_minor": 5
}
