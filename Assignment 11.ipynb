{
 "cells": [
  {
   "cell_type": "markdown",
   "id": "4e1ceb76",
   "metadata": {},
   "source": [
    "1. Write a Python program to find words which are greater than given length k?\n"
   ]
  },
  {
   "cell_type": "code",
   "execution_count": 1,
   "id": "b333248c",
   "metadata": {},
   "outputs": [
    {
     "name": "stdout",
     "output_type": "stream",
     "text": [
      "full stack data science\n",
      "stack\n",
      "science\n"
     ]
    }
   ],
   "source": [
    "lst = input()\n",
    "l = lst.split()\n",
    "def word_len(lst):\n",
    "    k = 5\n",
    "    for i in l:\n",
    "        if len(i) >= k :\n",
    "            print(i)\n",
    "            \n",
    "word_len(lst)"
   ]
  },
  {
   "cell_type": "markdown",
   "id": "9e1a1030",
   "metadata": {},
   "source": [
    "2. Write a Python program for removing i-th character from a string?\n"
   ]
  },
  {
   "cell_type": "code",
   "execution_count": 2,
   "id": "5b9f2a4a",
   "metadata": {},
   "outputs": [
    {
     "name": "stdout",
     "output_type": "stream",
     "text": [
      "fullstack data science\n",
      "Original String : fullstack data science\n",
      "New String : fulltack data science\n"
     ]
    }
   ],
   "source": [
    "test_str = input()\n",
    "print (\"Original String : \" + test_str)\n",
    "new_str = \"\"\n",
    "\n",
    "for i in range(len(test_str)):\n",
    "    if i != 4:\n",
    "        new_str = new_str + test_str[i]\n",
    "\n",
    "print (\"New String : \" + new_str)"
   ]
  },
  {
   "cell_type": "markdown",
   "id": "c429d510",
   "metadata": {},
   "source": [
    "3. Write a Python program to split and join a string?\n"
   ]
  },
  {
   "cell_type": "code",
   "execution_count": 3,
   "id": "7fc8ca9a",
   "metadata": {},
   "outputs": [
    {
     "name": "stdout",
     "output_type": "stream",
     "text": [
      "full stack data science\n",
      "Split String :  ['full', 'stack', 'data', 'science']\n",
      "New String : full stack data science\n"
     ]
    }
   ],
   "source": [
    "test_str = input()\n",
    "new_str = test_str.split()\n",
    "print(\"Split String : \", new_str)\n",
    "new_str = ' '.join(new_str)\n",
    "\n",
    "print (\"New String : \" + new_str)"
   ]
  },
  {
   "cell_type": "markdown",
   "id": "a9b9ae23",
   "metadata": {},
   "source": [
    "4. Write a Python to check if a given string is binary string or not?\n"
   ]
  },
  {
   "cell_type": "code",
   "execution_count": 4,
   "id": "658c6e85",
   "metadata": {},
   "outputs": [
    {
     "name": "stdout",
     "output_type": "stream",
     "text": [
      "10110010111\n",
      "Yes\n"
     ]
    }
   ],
   "source": [
    "string = input()\n",
    "\n",
    "def check(string) :\n",
    "    p = set(string)\n",
    "    s = {'0', '1'}\n",
    "    if s == p or p == {'0'} or p == {'1'}:\n",
    "        print(\"Yes\")\n",
    "    else :\n",
    "        print(\"No\")\n",
    "\n",
    "check(string)"
   ]
  },
  {
   "cell_type": "markdown",
   "id": "d8143664",
   "metadata": {},
   "source": [
    "5. Write a Python program to find uncommon words from two Strings?\n"
   ]
  },
  {
   "cell_type": "code",
   "execution_count": 5,
   "id": "39154938",
   "metadata": {},
   "outputs": [
    {
     "name": "stdout",
     "output_type": "stream",
     "text": [
      " apple fruits\n"
     ]
    }
   ],
   "source": [
    "def uncommon(a,b):\n",
    "    list_a = a.split()\n",
    "    list_b = b.split()\n",
    "    uc = ''\n",
    "    for i in list_a:\n",
    "        if i not in list_b:\n",
    "            uc = uc+\" \"+i\n",
    "    for j in list_b:\n",
    "        if j not in list_a:\n",
    "            uc = uc+\" \"+j\n",
    "\n",
    "    return uc\n",
    "\n",
    "a = \"apple banana mango\"\n",
    "b = \"banana fruits mango\"\n",
    "print(uncommon(a,b))\n"
   ]
  },
  {
   "cell_type": "markdown",
   "id": "b05ae92c",
   "metadata": {},
   "source": [
    "6. Write a Python to find all duplicate characters in string?\n"
   ]
  },
  {
   "cell_type": "code",
   "execution_count": 6,
   "id": "2e4230d0",
   "metadata": {},
   "outputs": [
    {
     "name": "stdout",
     "output_type": "stream",
     "text": [
      "Enter a word = full stack data science\n",
      "l 2\n",
      "d 1\n",
      "s 2\n",
      "f 1\n",
      "  3\n",
      "t 2\n",
      "n 1\n",
      "a 3\n",
      "i 1\n",
      "c 3\n",
      "e 2\n",
      "k 1\n",
      "u 1\n"
     ]
    }
   ],
   "source": [
    "def find_duplicate():\n",
    "    x =input(\"Enter a word = \")\n",
    "    for char in set(x) :\n",
    "        counts=x.count(char)\n",
    "        print(char,counts)\n",
    "\n",
    "find_duplicate()"
   ]
  },
  {
   "cell_type": "markdown",
   "id": "a4c092b8",
   "metadata": {},
   "source": [
    "7. Write a Python Program to check if a string contains any special character?"
   ]
  },
  {
   "cell_type": "code",
   "execution_count": 7,
   "id": "ca274111",
   "metadata": {},
   "outputs": [
    {
     "name": "stdout",
     "output_type": "stream",
     "text": [
      "D@t@ $cience 20##22\n"
     ]
    },
    {
     "data": {
      "text/plain": [
       "'Dtcience2022'"
      ]
     },
     "execution_count": 7,
     "metadata": {},
     "output_type": "execute_result"
    }
   ],
   "source": [
    "string = input()\n",
    "''.join(e for e in string if e.isalnum())\n"
   ]
  },
  {
   "cell_type": "code",
   "execution_count": null,
   "id": "c1bdac62",
   "metadata": {},
   "outputs": [],
   "source": []
  }
 ],
 "metadata": {
  "kernelspec": {
   "display_name": "Python 3 (ipykernel)",
   "language": "python",
   "name": "python3"
  },
  "language_info": {
   "codemirror_mode": {
    "name": "ipython",
    "version": 3
   },
   "file_extension": ".py",
   "mimetype": "text/x-python",
   "name": "python",
   "nbconvert_exporter": "python",
   "pygments_lexer": "ipython3",
   "version": "3.8.13"
  }
 },
 "nbformat": 4,
 "nbformat_minor": 5
}
